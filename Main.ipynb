{
 "cells": [
  {
   "cell_type": "markdown",
   "metadata": {},
   "source": [
    "# Web Scraping"
   ]
  },
  {
   "cell_type": "markdown",
   "metadata": {},
   "source": [
    "## Imports"
   ]
  },
  {
   "cell_type": "code",
   "execution_count": null,
   "metadata": {},
   "outputs": [],
   "source": [
    "import os\n",
    "import pandas as pd\n",
    "from selenium import webdriver\n",
    "from selenium.webdriver.common.by import By\n",
    "from selenium.webdriver.common.keys import Keys\n",
    "from selenium.webdriver.support.ui import WebDriverWait\n",
    "from selenium.webdriver.support import expected_conditions as EC\n",
    "from time import sleep"
   ]
  },
  {
   "cell_type": "markdown",
   "metadata": {},
   "source": [
    "## Initialize Webdriver"
   ]
  },
  {
   "cell_type": "code",
   "execution_count": null,
   "metadata": {},
   "outputs": [],
   "source": [
    "options = webdriver.ChromeOptions()\n",
    "options.add_experimental_option('detach', True)\n",
    "driver = webdriver.Chrome(options=options)"
   ]
  },
  {
   "cell_type": "markdown",
   "metadata": {},
   "source": [
    "## Define Functions"
   ]
  },
  {
   "cell_type": "markdown",
   "metadata": {},
   "source": [
    "### Input Validation"
   ]
  },
  {
   "cell_type": "code",
   "execution_count": null,
   "metadata": {},
   "outputs": [],
   "source": [
    "def validate_input_file(file_path):\n",
    "    \"\"\"Check if the input Excel file exists and can be read.\"\"\"\n",
    "    if not os.path.exists(file_path):\n",
    "        raise FileNotFoundError(f\"The file '{file_path}' does not exist.\")\n",
    "    try:\n",
    "        data = pd.read_excel(file_path)\n",
    "    except Exception as e:\n",
    "        raise ValueError(f\"Error reading the Excel file: {e}\")\n",
    "    return data\n",
    "\n",
    "def validate_url(url):\n",
    "    \"\"\"Check if the URL is valid.\"\"\"\n",
    "    if not url.startswith(\"http://\") and not url.startswith(\"https://\"):\n",
    "        raise ValueError(\"Invalid URL. Please provide a valid HTTP or HTTPS URL.\")\n",
    "\n",
    "def validate_output_file(output_path):\n",
    "    \"\"\"Ensure the output file can be written.\"\"\"\n",
    "    try:\n",
    "        with open(output_path, 'w') as f:\n",
    "            pass\n",
    "    except Exception as e:\n",
    "        raise IOError(f\"Cannot write to the output file '{output_path}': {e}\")"
   ]
  },
  {
   "cell_type": "markdown",
   "metadata": {},
   "source": [
    "### Selenium Driver Initialization and Scraping"
   ]
  },
  {
   "cell_type": "code",
   "execution_count": null,
   "metadata": {},
   "outputs": [],
   "source": [
    "def initialize_driver():\n",
    "    try:\n",
    "        options = webdriver.ChromeOptions()\n",
    "        options.add_experimental_option('detach', True)\n",
    "        driver = webdriver.Chrome(options=options)\n",
    "        return driver\n",
    "    except Exception as e:\n",
    "        raise RuntimeError(f\"Error initializing Selenium WebDriver: {e}\")\n",
    "def perform_scraping(driver, url):\n",
    "    \"\"\"Add error handling to the scraping logic.\"\"\"\n",
    "    try:\n",
    "        driver.get(url)\n",
    "    except Exception as e:\n",
    "        raise RuntimeError(f\"Error accessing the URL '{url}': {e}\")"
   ]
  },
  {
   "cell_type": "markdown",
   "metadata": {},
   "source": [
    "### Helper Functions"
   ]
  },
  {
   "cell_type": "code",
   "execution_count": null,
   "metadata": {},
   "outputs": [],
   "source": [
    "def clean_name(name):\n",
    "    \"\"\"Cleans the corporation name by removing unwanted characters.\"\"\"\n",
    "    return name.lower().replace(',', '').replace('.', '')\n",
    "\n",
    "def fetch_agent_details(driver, name, cleaned_results, search_results, rows):\n",
    "    \"\"\"Fetch agent details, including name and address, and the corporation's status.\"\"\"\n",
    "    if name in cleaned_results:\n",
    "        status = rows[cleaned_results.index(name)].text.split()[-1]\n",
    "        element = search_results[cleaned_results.index(name)]\n",
    "        driver.execute_script(\"arguments[0].scrollIntoView({ behavior: 'smooth', block: 'center' });\", element)\n",
    "        element.click()\n",
    "        try:\n",
    "            agent_section = WebDriverWait(driver, 10).until(\n",
    "                EC.presence_of_element_located((By.CSS_SELECTOR, \"div.detailSection:nth-of-type(5)\"))\n",
    "            )\n",
    "            agent_text = agent_section.text.split('\\n')\n",
    "            agent_name = agent_text[1] if len(agent_text) > 1 else \"Agent Not Found\"\n",
    "            address = \" \".join(agent_text[2:4]) if len(agent_text) > 3 else \"Address Not Found\"\n",
    "            return agent_name, address, status\n",
    "        except Exception as e:\n",
    "            return \"Agent Not Found\", \"Address Not Found\", \"INACT\"\n",
    "    return \"Agent Not Found\", \"Address Not Found\", \"INACT\"\n",
    "\n",
    "def handle_name_variations(name):\n",
    "    \"\"\"Handle common variations in names.\"\"\"\n",
    "    if 'ents' in name:\n",
    "        name = name.replace('ents', 'enterprise')\n",
    "    if 'corp' in name:\n",
    "        name = name.replace('corp', 'corporation')\n",
    "    return name"
   ]
  },
  {
   "cell_type": "markdown",
   "metadata": {},
   "source": [
    "## Setup"
   ]
  },
  {
   "cell_type": "code",
   "execution_count": null,
   "metadata": {},
   "outputs": [],
   "source": [
    "input_file = input(\"Enter the path to the Excel file: \")  # Example: 'realtor data.xlsx'\n",
    "output_file = input(\"Enter the name for the output file: \")  # Example: 'Sunbiz Data.xlsx'\n",
    "search_url = input(\"Enter the search URL: \")  # Example: 'https://search.sunbiz.org/...'"
   ]
  },
  {
   "cell_type": "code",
   "execution_count": null,
   "metadata": {},
   "outputs": [],
   "source": [
    "try:\n",
    "    data = validate_input_file(input_file)\n",
    "    validate_url(search_url)\n",
    "    validate_output_file(output_file)\n",
    "    print(\"Input and output files validated successfully.\")\n",
    "except Exception as e:\n",
    "    print(f\"Validation Error: {e}\")\n",
    "    exit()"
   ]
  },
  {
   "cell_type": "code",
   "execution_count": null,
   "metadata": {},
   "outputs": [],
   "source": [
    "try:\n",
    "    driver = initialize_driver()\n",
    "except Exception as e:\n",
    "    print(f\"Error initializing WebDriver: {e}\")\n",
    "    exit()"
   ]
  },
  {
   "cell_type": "markdown",
   "metadata": {},
   "source": [
    "## Main Logic"
   ]
  },
  {
   "cell_type": "code",
   "execution_count": null,
   "metadata": {},
   "outputs": [],
   "source": [
    "agent_names = []\n",
    "agent_addresses = []\n",
    "active_status = []\n",
    "\n",
    "try:\n",
    "    perform_scraping(driver, search_url)\n",
    "\n",
    "    for name in data['Corporation Name']:\n",
    "        cleaned_name = clean_name(name)\n",
    "        processed_name = handle_name_variations(cleaned_name)\n",
    "        \n",
    "        search_box = WebDriverWait(driver, 10).until(\n",
    "            EC.presence_of_element_located((By.XPATH, '//*[@id=\"SearchTerm\"]'))\n",
    "        )\n",
    "        search_box.click()\n",
    "        search_box.clear()\n",
    "        search_box.send_keys(processed_name)\n",
    "        search_box.send_keys(Keys.ENTER)\n",
    "\n",
    "        WebDriverWait(driver, 10).until(\n",
    "            EC.presence_of_all_elements_located((By.CSS_SELECTOR, 'td.large-width a'))\n",
    "        )\n",
    "\n",
    "        search_results = driver.find_elements(By.CSS_SELECTOR, 'td.large-width a')\n",
    "        rows = driver.find_elements(By.XPATH, \"//table/tbody/tr\")\n",
    "        cleaned_results = [clean_name(el.text) for el in search_results]\n",
    "\n",
    "        agent_name, agent_address, status = fetch_agent_details(\n",
    "            driver, processed_name, cleaned_results, search_results, rows\n",
    "        )\n",
    "        agent_names.append(agent_name)\n",
    "        agent_addresses.append(agent_address)\n",
    "        active_status.append(status)\n",
    "\n",
    "except Exception as e:\n",
    "    print(f\"Error during scraping: {e}\")\n",
    "    driver.quit()\n",
    "    exit()"
   ]
  },
  {
   "cell_type": "markdown",
   "metadata": {},
   "source": [
    "## Save Results"
   ]
  },
  {
   "cell_type": "code",
   "execution_count": null,
   "metadata": {},
   "outputs": [],
   "source": [
    "try:\n",
    "    results = pd.DataFrame({\n",
    "        \"Corp Name\": data[\"Corporation Name\"],\n",
    "        \"Agent Name\": agent_names,\n",
    "        \"Address\": agent_addresses,\n",
    "        \"Status\": active_status\n",
    "    })\n",
    "    results.to_excel(output_file, index=False)\n",
    "    print(\"Results saved successfully!\")\n",
    "except Exception as e:\n",
    "    print(f\"Error saving results: {e}\")\n",
    "finally:\n",
    "    driver.quit()\n",
    "    print(\"WebDriver closed.\")"
   ]
  }
 ],
 "metadata": {
  "kernelspec": {
   "display_name": "Python 3",
   "language": "python",
   "name": "python3"
  },
  "language_info": {
   "codemirror_mode": {
    "name": "ipython",
    "version": 3
   },
   "file_extension": ".py",
   "mimetype": "text/x-python",
   "name": "python",
   "nbconvert_exporter": "python",
   "pygments_lexer": "ipython3",
   "version": "3.11.7"
  }
 },
 "nbformat": 4,
 "nbformat_minor": 2
}
